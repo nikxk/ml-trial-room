{
 "cells": [
  {
   "cell_type": "code",
   "execution_count": 8,
   "metadata": {},
   "outputs": [],
   "source": [
    "from perceiver.model.core import FourierPositionEncoding\n",
    "import torch\n",
    "import torch.nn as nn\n",
    "from torchvision import datasets\n",
    "from einops import rearrange, repeat\n",
    "import matplotlib.pyplot as plt"
   ]
  },
  {
   "cell_type": "code",
   "execution_count": 3,
   "metadata": {},
   "outputs": [],
   "source": [
    "MNIST_data_dir = '/home/nsk/repos/ml-trial-room/mnist/MNIST_data'\n",
    "mnist_trainset = datasets.MNIST(MNIST_data_dir, download=False)"
   ]
  },
  {
   "cell_type": "code",
   "execution_count": 37,
   "metadata": {},
   "outputs": [
    {
     "name": "stdout",
     "output_type": "stream",
     "text": [
      "torch.Size([28, 28])\n"
     ]
    }
   ],
   "source": [
    "img_1 = mnist_trainset.data[0]\n",
    "img_2 = mnist_trainset.data[1]\n",
    "img_shape = img_1.shape\n",
    "print(img_1.shape)\n",
    "\n",
    "img_1 = rearrange(img_1, 'h w -> () (h w) ()')\n",
    "img_2 = rearrange(img_2, 'h w -> () (h w) ()')"
   ]
  },
  {
   "cell_type": "code",
   "execution_count": 60,
   "metadata": {},
   "outputs": [
    {
     "data": {
      "text/plain": [
       "torch.Size([1, 784, 10])"
      ]
     },
     "execution_count": 60,
     "metadata": {},
     "output_type": "execute_result"
    }
   ],
   "source": [
    "pos_enc = FourierPositionEncoding(input_shape=img_shape, num_frequency_bands=2)\n",
    "enc = pos_enc(1)\n",
    "enc.shape"
   ]
  },
  {
   "cell_type": "code",
   "execution_count": 61,
   "metadata": {},
   "outputs": [
    {
     "data": {
      "text/plain": [
       "torch.Size([1, 1568, 11])"
      ]
     },
     "execution_count": 61,
     "metadata": {},
     "output_type": "execute_result"
    }
   ],
   "source": [
    "inp = torch.cat([torch.cat([img_1, enc], dim=-1), torch.cat([img_2, enc], dim=-1)], dim=1)\n",
    "inp.shape"
   ]
  },
  {
   "cell_type": "code",
   "execution_count": 59,
   "metadata": {},
   "outputs": [
    {
     "data": {
      "image/png": "[encoded data removed]",
      "text/plain": [
       "<Figure size 432x288 with 10 Axes>"
      ]
     },
     "metadata": {
      "needs_background": "light"
     },
     "output_type": "display_data"
    }
   ],
   "source": [
    "# plot as a heatmap, all 10 channels in a grid\n",
    "fig, axs = plt.subplots(2, 5)\n",
    "for i in range(10):\n",
    "    axs[i // 5, i % 5].imshow(split[0, :, :, i+1].numpy())\n",
    "plt.show()\n",
    "# plt.imshow(split[0, :, :, 3].numpy())\n",
    "# plt.show()"
   ]
  },
  {
   "cell_type": "code",
   "execution_count": 4,
   "metadata": {},
   "outputs": [],
   "source": [
    "imgs = mnist_trainset.data[:2]\n",
    "imgs = rearrange(imgs, 'i h w -> () (i h w) ()')"
   ]
  },
  {
   "cell_type": "code",
   "execution_count": 94,
   "metadata": {},
   "outputs": [],
   "source": [
    "enc_cat = torch.cat([enc, enc], dim=1)\n",
    "imgs_w_enc = torch.cat([imgs, enc_cat], dim=-1)"
   ]
  },
  {
   "cell_type": "code",
   "execution_count": 98,
   "metadata": {},
   "outputs": [
    {
     "data": {
      "image/png": "[encoded data removed]",
      "text/plain": [
       "<Figure size 432x288 with 1 Axes>"
      ]
     },
     "metadata": {
      "needs_background": "light"
     },
     "output_type": "display_data"
    }
   ],
   "source": [
    "split = rearrange(imgs_w_enc, \"b (i h w) c -> i (b c) h w \", w=28, h=28)\n",
    "plt.imshow(split[1, 0, :, :].numpy())\n",
    "plt.show()"
   ]
  },
  {
   "cell_type": "code",
   "execution_count": 6,
   "metadata": {},
   "outputs": [],
   "source": [
    "class ModalityEncoding(nn.Module):\n",
    "    '''Provider of the modality encoding for the student model.\n",
    "    '''\n",
    "    def __init__(self, num_dim: int, init_scale: float = 0.02):\n",
    "        super().__init__()\n",
    "        self._enc = nn.Parameter(torch.empty(num_dim))\n",
    "        self._init_params(init_scale)\n",
    "\n",
    "    def _init_params(self, init_scale: float):\n",
    "        with torch.no_grad():\n",
    "            self._enc.normal_(0, init_scale)\n",
    "\n",
    "    def forward(self, x=None):\n",
    "        return self._enc\n",
    "mods = torch.stack([ModalityEncoding(5)() for _ in range(2)])"
   ]
  },
  {
   "cell_type": "code",
   "execution_count": 13,
   "metadata": {},
   "outputs": [
    {
     "data": {
      "text/plain": [
       "tensor([[[-0.0099,  0.0018, -0.0193,  0.0228, -0.0162],\n",
       "         [-0.0099,  0.0018, -0.0193,  0.0228, -0.0162],\n",
       "         [-0.0099,  0.0018, -0.0193,  0.0228, -0.0162],\n",
       "         [-0.0099,  0.0018, -0.0193,  0.0228, -0.0162],\n",
       "         [-0.0175, -0.0187,  0.0026,  0.0192, -0.0031],\n",
       "         [-0.0175, -0.0187,  0.0026,  0.0192, -0.0031],\n",
       "         [-0.0175, -0.0187,  0.0026,  0.0192, -0.0031],\n",
       "         [-0.0175, -0.0187,  0.0026,  0.0192, -0.0031]]],\n",
       "       grad_fn=<UnsafeViewBackward0>)"
      ]
     },
     "execution_count": 13,
     "metadata": {},
     "output_type": "execute_result"
    }
   ],
   "source": [
    "repeat(mods, 'i e -> b (i h w) e', b=1, h=2, w=2)"
   ]
  },
  {
   "cell_type": "code",
   "execution_count": 4,
   "metadata": {},
   "outputs": [
    {
     "data": {
      "text/plain": [
       "array([4.12310563, 5.38516481, 5.        ])"
      ]
     },
     "execution_count": 4,
     "metadata": {},
     "output_type": "execute_result"
    }
   ],
   "source": [
    "import numpy as np\n",
    "np.linalg.norm([[1, 2, 3], [4, 5, 4]], axis=0)"
   ]
  },
  {
   "cell_type": "code",
   "execution_count": 8,
   "metadata": {},
   "outputs": [
    {
     "data": {
      "text/plain": [
       "array([1, 2, 3, 4, 4, 4])"
      ]
     },
     "execution_count": 8,
     "metadata": {},
     "output_type": "execute_result"
    }
   ],
   "source": [
    "x = np.array([1,2,3,4,5,4])\n",
    "x[x>4] = 4\n",
    "x"
   ]
  }
 ],
 "metadata": {
  "kernelspec": {
   "display_name": "pio",
   "language": "python",
   "name": "python3"
  },
  "language_info": {
   "codemirror_mode": {
    "name": "ipython",
    "version": 3
   },
   "file_extension": ".py",
   "mimetype": "text/x-python",
   "name": "python",
   "nbconvert_exporter": "python",
   "pygments_lexer": "ipython3",
   "version": "3.10.8"
  },
  "orig_nbformat": 4,
  "vscode": {
   "interpreter": {
    "hash": "13f0c7bfa76e90ba9635c2bef47cd86c63e12f7b74068ff0ba5e0986fb018efb"
   }
  }
 },
 "nbformat": 4,
 "nbformat_minor": 2
}
