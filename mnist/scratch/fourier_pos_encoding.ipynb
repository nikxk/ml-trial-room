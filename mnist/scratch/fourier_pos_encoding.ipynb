{
 "cells": [
  {
   "cell_type": "code",
   "execution_count": 8,
   "metadata": {},
   "outputs": [],
   "source": [
    "from perceiver.model.core import FourierPositionEncoding\n",
    "import torch\n",
    "import torch.nn as nn\n",
    "from torchvision import datasets\n",
    "from einops import rearrange, repeat\n",
    "import matplotlib.pyplot as plt"
   ]
  },
  {
   "cell_type": "code",
   "execution_count": 3,
   "metadata": {},
   "outputs": [],
   "source": [
    "MNIST_data_dir = '/home/nsk/repos/ml-trial-room/mnist/MNIST_data'\n",
    "mnist_trainset = datasets.MNIST(MNIST_data_dir, download=False)"
   ]
  },
  {
   "cell_type": "code",
   "execution_count": 37,
   "metadata": {},
   "outputs": [
    {
     "name": "stdout",
     "output_type": "stream",
     "text": [
      "torch.Size([28, 28])\n"
     ]
    }
   ],
   "source": [
    "img_1 = mnist_trainset.data[0]\n",
    "img_2 = mnist_trainset.data[1]\n",
    "img_shape = img_1.shape\n",
    "print(img_1.shape)\n",
    "\n",
    "img_1 = rearrange(img_1, 'h w -> () (h w) ()')\n",
    "img_2 = rearrange(img_2, 'h w -> () (h w) ()')"
   ]
  },
  {
   "cell_type": "code",
   "execution_count": 60,
   "metadata": {},
   "outputs": [
    {
     "data": {
      "text/plain": [
       "torch.Size([1, 784, 10])"
      ]
     },
     "execution_count": 60,
     "metadata": {},
     "output_type": "execute_result"
    }
   ],
   "source": [
    "pos_enc = FourierPositionEncoding(input_shape=img_shape, num_frequency_bands=2)\n",
    "enc = pos_enc(1)\n",
    "enc.shape"
   ]
  },
  {
   "cell_type": "code",
   "execution_count": 61,
   "metadata": {},
   "outputs": [
    {
     "data": {
      "text/plain": [
       "torch.Size([1, 1568, 11])"
      ]
     },
     "execution_count": 61,
     "metadata": {},
     "output_type": "execute_result"
    }
   ],
   "source": [
    "inp = torch.cat([torch.cat([img_1, enc], dim=-1), torch.cat([img_2, enc], dim=-1)], dim=1)\n",
    "inp.shape"
   ]
  },
  {
   "cell_type": "code",
   "execution_count": 59,
   "metadata": {},
   "outputs": [
    {
     "data": {
      "image/png": "[encoded data removed]",
      "text/plain": [
       "<Figure size 432x288 with 10 Axes>"
      ]
     },
     "metadata": {
      "needs_background": "light"
     },
     "output_type": "display_data"
    }
   ],
   "source": [
    "# plot as a heatmap, all 10 channels in a grid\n",
    "fig, axs = plt.subplots(2, 5)\n",
    "for i in range(10):\n",
    "    axs[i // 5, i % 5].imshow(split[0, :, :, i+1].numpy())\n",
    "plt.show()\n",
    "# plt.imshow(split[0, :, :, 3].numpy())\n",
    "# plt.show()"
   ]
  },
  {
   "cell_type": "code",
   "execution_count": 4,
   "metadata": {},
   "outputs": [],
   "source": [
    "imgs = mnist_trainset.data[:2]\n",
    "imgs = rearrange(imgs, 'i h w -> () (i h w) ()')"
   ]
  },
  {
   "cell_type": "code",
   "execution_count": 94,
   "metadata": {},
   "outputs": [],
   "source": [
    "enc_cat = torch.cat([enc, enc], dim=1)\n",
    "imgs_w_enc = torch.cat([imgs, enc_cat], dim=-1)"
   ]
  },
  {
   "cell_type": "code",
   "execution_count": 98,
   "metadata": {},
   "outputs": [
    {
     "data": {
      "image/png": "[encoded data removed]",
      "text/plain": [
       "<Figure size 432x288 with 1 Axes>"
      ]
     },
     "metadata": {
      "needs_background": "light"
     },
     "output_type": "display_data"
    }
   ],
   "source": [
    "split = rearrange(imgs_w_enc, \"b (i h w) c -> i (b c) h w \", w=28, h=28)\n",
    "plt.imshow(split[1, 0, :, :].numpy())\n",
    "plt.show()"
   ]
  },
  {
   "cell_type": "code",
   "execution_count": 6,
   "metadata": {},
   "outputs": [],
   "source": [
    "class ModalityEncoding(nn.Module):\n",
    "    '''Provider of the modality encoding for the student model.\n",
    "    '''\n",
    "    def __init__(self, num_dim: int, init_scale: float = 0.02):\n",
    "        super().__init__()\n",
    "        self._enc = nn.Parameter(torch.empty(num_dim))\n",
    "        self._init_params(init_scale)\n",
    "\n",
    "    def _init_params(self, init_scale: float):\n",
    "        with torch.no_grad():\n",
    "            self._enc.normal_(0, init_scale)\n",
    "\n",
    "    def forward(self, x=None):\n",
    "        return self._enc\n",
    "mods = torch.stack([ModalityEncoding(5)() for _ in range(2)])"
   ]
  },
  {
   "cell_type": "code",
   "execution_count": 13,
   "metadata": {},
   "outputs": [
    {
     "data": {
      "text/plain": [
       "tensor([[[-0.0099,  0.0018, -0.0193,  0.0228, -0.0162],\n",
       "         [-0.0099,  0.0018, -0.0193,  0.0228, -0.0162],\n",
       "         [-0.0099,  0.0018, -0.0193,  0.0228, -0.0162],\n",
       "         [-0.0099,  0.0018, -0.0193,  0.0228, -0.0162],\n",
       "         [-0.0175, -0.0187,  0.0026,  0.0192, -0.0031],\n",
       "         [-0.0175, -0.0187,  0.0026,  0.0192, -0.0031],\n",
       "         [-0.0175, -0.0187,  0.0026,  0.0192, -0.0031],\n",
       "         [-0.0175, -0.0187,  0.0026,  0.0192, -0.0031]]],\n",
       "       grad_fn=<UnsafeViewBackward0>)"
      ]
     },
     "execution_count": 13,
     "metadata": {},
     "output_type": "execute_result"
    }
   ],
   "source": [
    "repeat(mods, 'i e -> b (i h w) e', b=1, h=2, w=2)"
   ]
  },
  {
   "cell_type": "code",
   "execution_count": 4,
   "metadata": {},
   "outputs": [
    {
     "data": {
      "text/plain": [
       "array([4.12310563, 5.38516481, 5.        ])"
      ]
     },
     "execution_count": 4,
     "metadata": {},
     "output_type": "execute_result"
    }
   ],
   "source": [
    "import numpy as np\n",
    "np.linalg.norm([[1, 2, 3], [4, 5, 4]], axis=0)"
   ]
  },
  {
   "cell_type": "code",
   "execution_count": 8,
   "metadata": {},
   "outputs": [
    {
     "data": {
      "text/plain": [
       "array([1, 2, 3, 4, 4, 4])"
      ]
     },
     "execution_count": 8,
     "metadata": {},
     "output_type": "execute_result"
    }
   ],
   "source": [
    "x = np.array([1,2,3,4,5,4])\n",
    "x[x>4] = 4\n",
    "x"
   ]
  },
  {
   "cell_type": "code",
   "execution_count": 1,
   "metadata": {},
   "outputs": [],
   "source": [
    "from collections.abc import Iterable\n",
    "from math import log, cos, pi, floor\n",
    "\n",
    "from torch.optim.lr_scheduler import _LRScheduler\n",
    "\n",
    "\n",
    "class CyclicCosineDecayLR(_LRScheduler):\n",
    "    def __init__(self,\n",
    "                 optimizer,\n",
    "                 init_decay_epochs,\n",
    "                 min_decay_lr,\n",
    "                 restart_interval=None,\n",
    "                 restart_interval_multiplier=None,\n",
    "                 restart_lr=None,\n",
    "                 warmup_epochs=None,\n",
    "                 warmup_start_lr=None,\n",
    "                 last_epoch=-1,\n",
    "                 verbose=False):\n",
    "        \"\"\"\n",
    "        Initialize new CyclicCosineDecayLR object.\n",
    "\n",
    "        :param optimizer: (Optimizer) - Wrapped optimizer.\n",
    "        :param init_decay_epochs: (int) - Number of initial decay epochs.\n",
    "        :param min_decay_lr: (float or iterable of floats) - Learning rate at the end of decay.\n",
    "        :param restart_interval: (int) - Restart interval for fixed cycles.\n",
    "            Set to None to disable cycles. Default: None.\n",
    "        :param restart_interval_multiplier: (float) - Multiplication coefficient for geometrically increasing cycles.\n",
    "            Default: None.\n",
    "        :param restart_lr: (float or iterable of floats) - Learning rate when cycle restarts.\n",
    "            If None, optimizer's learning rate will be used. Default: None.\n",
    "        :param warmup_epochs: (int) - Number of warmup epochs. Set to None to disable warmup. Default: None.\n",
    "        :param warmup_start_lr: (float or iterable of floats) - Learning rate at the beginning of warmup.\n",
    "            Must be set if warmup_epochs is not None. Default: None.\n",
    "        :param last_epoch: (int) - The index of the last epoch. This parameter is used when resuming a training job. Default: -1.\n",
    "        :param verbose: (bool) - If True, prints a message to stdout for each update. Default: False.\n",
    "        \"\"\"\n",
    "\n",
    "        if not isinstance(init_decay_epochs, int) or init_decay_epochs < 1:\n",
    "            raise ValueError(\"init_decay_epochs must be positive integer, got {} instead\".format(init_decay_epochs))\n",
    "\n",
    "        if isinstance(min_decay_lr, Iterable) and len(min_decay_lr) != len(optimizer.param_groups):\n",
    "            raise ValueError(\"Expected len(min_decay_lr) to be equal to len(optimizer.param_groups), \"\n",
    "                             \"got {} and {} instead\".format(len(min_decay_lr), len(optimizer.param_groups)))\n",
    "\n",
    "        if restart_interval is not None and (not isinstance(restart_interval, int) or restart_interval < 1):\n",
    "            raise ValueError(\"restart_interval must be positive integer, got {} instead\".format(restart_interval))\n",
    "\n",
    "        if restart_interval_multiplier is not None and \\\n",
    "                (not isinstance(restart_interval_multiplier, float) or restart_interval_multiplier <= 0):\n",
    "            raise ValueError(\"restart_interval_multiplier must be positive float, got {} instead\".format(\n",
    "                restart_interval_multiplier))\n",
    "\n",
    "        if isinstance(restart_lr, Iterable) and len(restart_lr) != len(optimizer.param_groups):\n",
    "            raise ValueError(\"Expected len(restart_lr) to be equal to len(optimizer.param_groups), \"\n",
    "                             \"got {} and {} instead\".format(len(restart_lr), len(optimizer.param_groups)))\n",
    "\n",
    "        if warmup_epochs is not None:\n",
    "            if not isinstance(warmup_epochs, int) or warmup_epochs < 1:\n",
    "                raise ValueError(\n",
    "                    \"Expected warmup_epochs to be positive integer, got {} instead\".format(type(warmup_epochs)))\n",
    "\n",
    "            if warmup_start_lr is None:\n",
    "                raise ValueError(\"warmup_start_lr must be set when warmup_epochs is not None\")\n",
    "\n",
    "            if not (isinstance(warmup_start_lr, float) or isinstance(warmup_start_lr, Iterable)):\n",
    "                raise ValueError(\"warmup_start_lr must be either float or iterable of floats, got {} instead\".format(\n",
    "                    warmup_start_lr))\n",
    "\n",
    "            if isinstance(warmup_start_lr, Iterable) and len(warmup_start_lr) != len(optimizer.param_groups):\n",
    "                raise ValueError(\"Expected len(warmup_start_lr) to be equal to len(optimizer.param_groups), \"\n",
    "                                 \"got {} and {} instead\".format(len(warmup_start_lr), len(optimizer.param_groups)))\n",
    "\n",
    "        group_num = len(optimizer.param_groups)\n",
    "        self._warmup_start_lr = [warmup_start_lr] * group_num if isinstance(warmup_start_lr, float) else warmup_start_lr\n",
    "        self._warmup_epochs = 0 if warmup_epochs is None else warmup_epochs\n",
    "        self._init_decay_epochs = init_decay_epochs\n",
    "        self._min_decay_lr = [min_decay_lr] * group_num if isinstance(min_decay_lr, float) else min_decay_lr\n",
    "        self._restart_lr = [restart_lr] * group_num if isinstance(restart_lr, float) else restart_lr\n",
    "        self._restart_interval = restart_interval\n",
    "        self._restart_interval_multiplier = restart_interval_multiplier\n",
    "        super(CyclicCosineDecayLR, self).__init__(optimizer, last_epoch, verbose=verbose)\n",
    "\n",
    "    def get_lr(self):\n",
    "\n",
    "        if self._warmup_epochs > 0 and self.last_epoch < self._warmup_epochs:\n",
    "            return self._calc(self.last_epoch,\n",
    "                              self._warmup_epochs,\n",
    "                              self._warmup_start_lr,\n",
    "                              self.base_lrs)\n",
    "\n",
    "        elif self.last_epoch < self._init_decay_epochs + self._warmup_epochs:\n",
    "            return self._calc(self.last_epoch - self._warmup_epochs,\n",
    "                              self._init_decay_epochs,\n",
    "                              self.base_lrs,\n",
    "                              self._min_decay_lr)\n",
    "        else:\n",
    "            if self._restart_interval is not None:\n",
    "                if self._restart_interval_multiplier is None:\n",
    "                    cycle_epoch = (self.last_epoch - self._init_decay_epochs - self._warmup_epochs) % self._restart_interval\n",
    "                    lrs = self.base_lrs if self._restart_lr is None else self._restart_lr\n",
    "                    return self._calc(cycle_epoch,\n",
    "                                      self._restart_interval,\n",
    "                                      lrs,\n",
    "                                      self._min_decay_lr)\n",
    "                else:\n",
    "                    n = self._get_n(self.last_epoch - self._warmup_epochs - self._init_decay_epochs)\n",
    "                    sn_prev = self._partial_sum(n)\n",
    "                    cycle_epoch = self.last_epoch - sn_prev - self._warmup_epochs - self._init_decay_epochs\n",
    "                    interval = self._restart_interval * self._restart_interval_multiplier ** n\n",
    "                    lrs = self.base_lrs if self._restart_lr is None else self._restart_lr\n",
    "                    return self._calc(cycle_epoch,\n",
    "                                      interval,\n",
    "                                      lrs,\n",
    "                                      self._min_decay_lr)\n",
    "            else:\n",
    "                return self._min_decay_lr\n",
    "\n",
    "    def _calc(self, t, T, lrs, min_lrs):\n",
    "        return [min_lr + (lr - min_lr) * ((1 + cos(pi * t / T)) / 2)\n",
    "                for lr, min_lr in zip(lrs, min_lrs)]\n",
    "\n",
    "    def _get_n(self, epoch):\n",
    "        _t = 1 - (1 - self._restart_interval_multiplier) * epoch / self._restart_interval\n",
    "        return floor(log(_t, self._restart_interval_multiplier))\n",
    "\n",
    "    def _partial_sum(self, n):\n",
    "        return self._restart_interval * (1 - self._restart_interval_multiplier ** n) / (\n",
    "                    1 - self._restart_interval_multiplier)\n"
   ]
  },
  {
   "cell_type": "code",
   "execution_count": 4,
   "metadata": {},
   "outputs": [
    {
     "name": "stderr",
     "output_type": "stream",
     "text": [
      "/home/nsk/miniconda3/envs/pio/lib/python3.10/site-packages/torch/optim/lr_scheduler.py:138: UserWarning: Detected call of `lr_scheduler.step()` before `optimizer.step()`. In PyTorch 1.1.0 and later, you should call them in the opposite order: `optimizer.step()` before `lr_scheduler.step()`.  Failure to do this will result in PyTorch skipping the first value of the learning rate schedule. See more details at https://pytorch.org/docs/stable/optim.html#how-to-adjust-learning-rate\n",
      "  warnings.warn(\"Detected call of `lr_scheduler.step()` before `optimizer.step()`. \"\n"
     ]
    },
    {
     "data": {
      "image/png": "[encoded data removed]",
      "text/plain": [
       "<Figure size 432x288 with 1 Axes>"
      ]
     },
     "metadata": {
      "needs_background": "light"
     },
     "output_type": "display_data"
    }
   ],
   "source": [
    "import torch\n",
    "import torch.nn as nn\n",
    "import numpy as np\n",
    "from perceiver.scripts.lrs import CosineWithWarmupLR, ConstantWithWarmupLR\n",
    "import matplotlib.pyplot as plt\n",
    "\n",
    "optimizer = torch.optim.SGD([nn.Parameter(torch.randn(1, 1))], lr=1.)\n",
    "T_0 = 10\n",
    "\n",
    "scheduler = torch.optim.lr_scheduler.CosineAnnealingWarmRestarts(optimizer, T_0)\n",
    "scheduler = CosineWithWarmupLR(optimizer, warmup_steps=100, training_steps=1000)\n",
    "scheduler = ConstantWithWarmupLR(optimizer, warmup_steps=100)\n",
    "scheduler = CyclicCosineDecayLR(optimizer, init_decay_epochs=200, min_decay_lr=0.1, restart_interval=100, restart_interval_multiplier=2., restart_lr=0.3, warmup_epochs=100, warmup_start_lr=0.2)\n",
    "\n",
    "lrs = []\n",
    "for epoch in range(1000):\n",
    "    scheduler.step()\n",
    "    lrs.append(scheduler.get_last_lr())\n",
    "\n",
    "lrs = np.array(lrs)\n",
    "plt.plot(lrs)\n",
    "plt.show()"
   ]
  },
  {
   "cell_type": "code",
   "execution_count": 11,
   "metadata": {},
   "outputs": [
    {
     "data": {
      "text/plain": [
       "tensor(5.)"
      ]
     },
     "execution_count": 11,
     "metadata": {},
     "output_type": "execute_result"
    }
   ],
   "source": [
    "import torch\n",
    "\n",
    "w = torch.tensor(1., requires_grad=True)\n",
    "x = torch.tensor(2.)\n",
    "z = 0.\n",
    "\n",
    "y = w * x\n",
    "z += y\n",
    "\n",
    "x = torch.tensor(3.)\n",
    "\n",
    "y = w * x\n",
    "z += y\n",
    "\n",
    "z.backward()\n",
    "\n",
    "w.grad"
   ]
  },
  {
   "cell_type": "code",
   "execution_count": 14,
   "metadata": {},
   "outputs": [
    {
     "data": {
      "text/plain": [
       "{1.0: 908, 0.0: 92}"
      ]
     },
     "execution_count": 14,
     "metadata": {},
     "output_type": "execute_result"
    }
   ],
   "source": [
    "import torch\n",
    "import collections\n",
    "\n",
    "p = torch.Tensor([0.1, 0.9])\n",
    "idx = p.multinomial(num_samples=1000, replacement=True)\n",
    "data = torch.Tensor([0, 1])\n",
    "\n",
    "dict(collections.Counter(data[idx].tolist()))"
   ]
  },
  {
   "cell_type": "code",
   "execution_count": 25,
   "metadata": {},
   "outputs": [
    {
     "name": "stdout",
     "output_type": "stream",
     "text": [
      "tensor([1., 1., 1., 1., 1., 1., 1., 1., 0., 1.])\n"
     ]
    },
    {
     "data": {
      "text/plain": [
       "tensor([[0.6681, 0.0427, 0.8781, 0.1995, 0.2049, 0.8433, 0.3480, 0.0614, 0.6252,\n",
       "         0.4209],\n",
       "        [0.0758, 0.1520, 0.0332, 0.4307, 0.9504, 0.1555, 0.3191, 0.5927, 0.8617,\n",
       "         0.9330],\n",
       "        [0.7427, 0.8745, 0.6409, 0.5205, 0.5764, 0.6725, 0.5861, 0.7229, 0.7723,\n",
       "         0.1084],\n",
       "        [0.3269, 0.8404, 0.1113, 0.3671, 0.8545, 0.9968, 0.7925, 0.8431, 0.9572,\n",
       "         0.3012],\n",
       "        [0.3575, 0.9120, 0.9932, 0.4356, 0.7948, 0.3765, 0.2027, 0.2497, 0.7935,\n",
       "         0.1581],\n",
       "        [0.5206, 0.2958, 0.0810, 0.5776, 0.3783, 0.9644, 0.7019, 0.5347, 0.6003,\n",
       "         0.0504],\n",
       "        [0.1130, 0.4230, 0.9128, 0.2650, 0.1641, 0.5458, 0.9033, 0.1977, 0.1813,\n",
       "         0.7140],\n",
       "        [0.8055, 0.1060, 0.4326, 0.2775, 0.0220, 0.2574, 0.3517, 0.1407, 0.2727,\n",
       "         0.4099],\n",
       "        [0.0000, 0.0000, 0.0000, 0.0000, 0.0000, 0.0000, 0.0000, 0.0000, 0.0000,\n",
       "         0.0000],\n",
       "        [0.4363, 0.1052, 0.7284, 0.9949, 0.6173, 0.6423, 0.9474, 0.5764, 0.1369,\n",
       "         0.2140]])"
      ]
     },
     "execution_count": 25,
     "metadata": {},
     "output_type": "execute_result"
    }
   ],
   "source": [
    "a = torch.multinomial(torch.Tensor([0.2, 0.8]), 10, replacement=True).to(torch.float32)\n",
    "b = torch.rand((10,10)).to(torch.float32)\n",
    "\n",
    "# multiply every first dimension of b with corresponding element of a\n",
    "print(a)\n",
    "torch.einsum('b i, b -> b i', b, a)"
   ]
  },
  {
   "cell_type": "code",
   "execution_count": null,
   "metadata": {},
   "outputs": [],
   "source": [
    "import optuna\n",
    "import logging\n",
    "import sys\n",
    "\n",
    "def objective(trial):\n",
    "    x = trial.suggest_uniform(\"x\", -10, 10)\n",
    "    if x < 0:\n",
    "        raise optuna.TrialPruned()\n",
    "    return (x - 2) ** 2\n",
    "\n",
    "optuna.logging.get_logger(\"optuna\").addHandler(logging.StreamHandler(sys.stdout))\n",
    "study = optuna.create_study(pruner=optuna.pruners.MedianPruner())\n",
    "study.optimize(objective, n_trials=20)"
   ]
  },
  {
   "cell_type": "code",
   "execution_count": 21,
   "metadata": {},
   "outputs": [
    {
     "name": "stdout",
     "output_type": "stream",
     "text": [
      "x_1.shape = torch.Size([1, 4, 70, 126])\n",
      "x_2.shape = torch.Size([1, 4, 34, 62])\n",
      "x_3.shape = torch.Size([1, 4, 34, 62])\n",
      "x_4.shape = torch.Size([1, 16, 16, 30])\n",
      "x_5.shape = torch.Size([1, 16, 7, 14])\n"
     ]
    }
   ],
   "source": [
    "import torch\n",
    "import torch.nn as nn\n",
    "\n",
    "x = torch.randn(1, 2, 72, 128)\n",
    "\n",
    "conv_1 = nn.Conv2d(in_channels=2, out_channels=4, kernel_size=3, groups=2)\n",
    "x_1 = conv_1(x)\n",
    "conv_2 = nn.Conv2d(in_channels=2, out_channels=4, kernel_size=4, padding=4, stride=2, dilation=4, groups=2)\n",
    "x_2 = conv_2(x)\n",
    "conv_3 = nn.Conv2d(in_channels=4, out_channels=4, kernel_size=4, padding=0, stride=2, groups=2)\n",
    "x_3 = conv_3(x_1)\n",
    "\n",
    "conv_4 = nn.Conv2d(in_channels=8, out_channels=16, kernel_size=4, padding=0, stride=2, groups=2)\n",
    "x_4 = conv_4(torch.cat([x_2, x_3], dim=1))\n",
    "\n",
    "conv_5 = nn.Conv2d(in_channels=16, out_channels=16, kernel_size=4, padding=0, stride=2, groups=2)\n",
    "x_5 = conv_5(x_4)\n",
    "\n",
    "\n",
    "print(f'{x_1.shape = }\\n{x_2.shape = }\\n{x_3.shape = }\\n{x_4.shape = }\\n{x_5.shape = }')"
   ]
  },
  {
   "cell_type": "code",
   "execution_count": 26,
   "metadata": {},
   "outputs": [
    {
     "data": {
      "text/plain": [
       "tensor([1., 2., 3., 4., 5., 6., 1., 2., 3., 4., 5., 6.])"
      ]
     },
     "execution_count": 26,
     "metadata": {},
     "output_type": "execute_result"
    }
   ],
   "source": [
    "from einops import rearrange, repeat\n",
    "x = torch.Tensor([1, 2, 3, 4, 5, 6])\n",
    "rearrange(x, '(a b)-> (b a)', a=2)\n",
    "\n",
    "repeat(x, '(a b) -> (n a b)', n=2, a=2, b=3)"
   ]
  }
 ],
 "metadata": {
  "kernelspec": {
   "display_name": "pio",
   "language": "python",
   "name": "python3"
  },
  "language_info": {
   "codemirror_mode": {
    "name": "ipython",
    "version": 3
   },
   "file_extension": ".py",
   "mimetype": "text/x-python",
   "name": "python",
   "nbconvert_exporter": "python",
   "pygments_lexer": "ipython3",
   "version": "3.10.9"
  },
  "orig_nbformat": 4,
  "vscode": {
   "interpreter": {
    "hash": "13f0c7bfa76e90ba9635c2bef47cd86c63e12f7b74068ff0ba5e0986fb018efb"
   }
  }
 },
 "nbformat": 4,
 "nbformat_minor": 2
}
